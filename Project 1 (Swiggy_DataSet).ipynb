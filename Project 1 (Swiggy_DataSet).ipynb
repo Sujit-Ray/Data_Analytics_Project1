{
 "cells": [
  {
   "cell_type": "markdown",
   "id": "65ae4b1f",
   "metadata": {},
   "source": [
    "# Project Title: Swiggy Data Analysis"
   ]
  },
  {
   "cell_type": "markdown",
   "id": "588ea8ac",
   "metadata": {},
   "source": [
    "## Dataset Information : -\n",
    "   - The data is related with direct marketing campaigns of a Food delivery online platform. \n",
    "   - The marketing campaigns were based on Restro name, city, area, avgRating, cuisines, deliveryTime, Locality etc . \n",
    "      \n",
    "   - The name of the dataset : - Swiggy_dataset.csv"
   ]
  },
  {
   "cell_type": "markdown",
   "id": "81e441ff",
   "metadata": {},
   "source": [
    "## Project Goal : --\n",
    "   - which Food got the highest order \n",
    "   - which shop does the maximum business\n",
    "   - which shop got the Rating 3 \n",
    "   - what is the avg. delivery time "
   ]
  },
  {
   "cell_type": "markdown",
   "id": "b752366a",
   "metadata": {},
   "source": [
    "## Loading Of Dataset & Packages"
   ]
  },
  {
   "cell_type": "code",
   "execution_count": 50,
   "id": "46972779",
   "metadata": {},
   "outputs": [],
   "source": [
    "import pandas as pd\n",
    "import matplotlib.pyplot as plt\n",
    "import seaborn as sns\n",
    "import warnings\n",
    "warnings.filterwarnings(\"ignore\")"
   ]
  },
  {
   "cell_type": "code",
   "execution_count": 51,
   "id": "c438a4cb",
   "metadata": {},
   "outputs": [
    {
     "data": {
      "text/html": [
       "<div>\n",
       "<style scoped>\n",
       "    .dataframe tbody tr th:only-of-type {\n",
       "        vertical-align: middle;\n",
       "    }\n",
       "\n",
       "    .dataframe tbody tr th {\n",
       "        vertical-align: top;\n",
       "    }\n",
       "\n",
       "    .dataframe thead th {\n",
       "        text-align: right;\n",
       "    }\n",
       "</style>\n",
       "<table border=\"1\" class=\"dataframe\">\n",
       "  <thead>\n",
       "    <tr style=\"text-align: right;\">\n",
       "      <th></th>\n",
       "      <th>type</th>\n",
       "      <th>id</th>\n",
       "      <th>name</th>\n",
       "      <th>uuid</th>\n",
       "      <th>city</th>\n",
       "      <th>area</th>\n",
       "      <th>avgRating</th>\n",
       "      <th>totalRatingsString</th>\n",
       "      <th>cuisines</th>\n",
       "      <th>costForTwoStrings</th>\n",
       "      <th>deliveryTime</th>\n",
       "      <th>minDeliveryTime</th>\n",
       "      <th>maxDeliveryTime</th>\n",
       "      <th>address</th>\n",
       "      <th>locality</th>\n",
       "      <th>unserviceable</th>\n",
       "      <th>veg</th>\n",
       "      <th>City</th>\n",
       "    </tr>\n",
       "  </thead>\n",
       "  <tbody>\n",
       "    <tr>\n",
       "      <th>0</th>\n",
       "      <td>F</td>\n",
       "      <td>37933</td>\n",
       "      <td>Faasos - Wraps &amp; Rolls</td>\n",
       "      <td>6fe9caf1-02a7-4e66-83bb-1b4ff296b683</td>\n",
       "      <td>Ahmedabad</td>\n",
       "      <td>Vastrapur</td>\n",
       "      <td>4.2</td>\n",
       "      <td>500+ ratings</td>\n",
       "      <td>['Combo' 'Snacks' 'Beverages' 'Desserts' 'Indi...</td>\n",
       "      <td>₹200 FOR TWO</td>\n",
       "      <td>44</td>\n",
       "      <td>44</td>\n",
       "      <td>44</td>\n",
       "      <td>SHOP NO 2 HOTEL SHAHI PALACE VASTRAPUR LAKE AH...</td>\n",
       "      <td>HOTEL SHAHI PALACE</td>\n",
       "      <td>False</td>\n",
       "      <td>False</td>\n",
       "      <td>NaN</td>\n",
       "    </tr>\n",
       "    <tr>\n",
       "      <th>1</th>\n",
       "      <td>F</td>\n",
       "      <td>81814</td>\n",
       "      <td>Burger King</td>\n",
       "      <td>10083576-d32d-4a0e-8a82-3236ef342a19</td>\n",
       "      <td>Ahmedabad</td>\n",
       "      <td>Ellisbridge</td>\n",
       "      <td>4.2</td>\n",
       "      <td>1000+ ratings</td>\n",
       "      <td>['American' 'Fast Food']</td>\n",
       "      <td>₹350 FOR TWO</td>\n",
       "      <td>33</td>\n",
       "      <td>33</td>\n",
       "      <td>33</td>\n",
       "      <td>SHOP # 5 GR FLR THIRD EYE 2PANCHAVATI CIRCLE O...</td>\n",
       "      <td>3rd Eye II Ellis Bridge CG Road</td>\n",
       "      <td>False</td>\n",
       "      <td>False</td>\n",
       "      <td>NaN</td>\n",
       "    </tr>\n",
       "    <tr>\n",
       "      <th>2</th>\n",
       "      <td>F</td>\n",
       "      <td>107046</td>\n",
       "      <td>Mahalaxmi Pav Bhaji</td>\n",
       "      <td>fbfe3bfa-03fd-4708-b913-06e2c9ee9639</td>\n",
       "      <td>Ahmedabad</td>\n",
       "      <td>Ellisbridge</td>\n",
       "      <td>4.3</td>\n",
       "      <td>500+ ratings</td>\n",
       "      <td>['North Indian']</td>\n",
       "      <td>₹200 FOR TWO</td>\n",
       "      <td>28</td>\n",
       "      <td>28</td>\n",
       "      <td>28</td>\n",
       "      <td>GF 9/10 Dev complexnear parimal charasta opp. ...</td>\n",
       "      <td>C G Road</td>\n",
       "      <td>False</td>\n",
       "      <td>True</td>\n",
       "      <td>NaN</td>\n",
       "    </tr>\n",
       "    <tr>\n",
       "      <th>3</th>\n",
       "      <td>F</td>\n",
       "      <td>328315</td>\n",
       "      <td>HIIT Meals</td>\n",
       "      <td>81ab4019-2445-4aef-aff2-04beccd641d9</td>\n",
       "      <td>Ahmedabad</td>\n",
       "      <td>Vishala</td>\n",
       "      <td>--</td>\n",
       "      <td>Too Few Ratings</td>\n",
       "      <td>['Fast Food' 'Combo' 'Snacks' 'North Indian' '...</td>\n",
       "      <td>₹150 FOR TWO</td>\n",
       "      <td>51</td>\n",
       "      <td>51</td>\n",
       "      <td>51</td>\n",
       "      <td>C11 Rajyash Rise Near Vishala Restaurant Vasna...</td>\n",
       "      <td>Vasna</td>\n",
       "      <td>False</td>\n",
       "      <td>False</td>\n",
       "      <td>NaN</td>\n",
       "    </tr>\n",
       "    <tr>\n",
       "      <th>4</th>\n",
       "      <td>F</td>\n",
       "      <td>108879</td>\n",
       "      <td>Jay Jalaram Parotha House</td>\n",
       "      <td>994e73e1-7c7c-4ad9-87e7-ecfecd4e36fa</td>\n",
       "      <td>Ahmedabad</td>\n",
       "      <td>Ellisbridge</td>\n",
       "      <td>3.9</td>\n",
       "      <td>100+ ratings</td>\n",
       "      <td>['North Indian']</td>\n",
       "      <td>₹250 FOR TWO</td>\n",
       "      <td>29</td>\n",
       "      <td>29</td>\n",
       "      <td>29</td>\n",
       "      <td>Capital Commercial Centre Near UCO Bank Ashram...</td>\n",
       "      <td>Ashram Road</td>\n",
       "      <td>False</td>\n",
       "      <td>True</td>\n",
       "      <td>NaN</td>\n",
       "    </tr>\n",
       "  </tbody>\n",
       "</table>\n",
       "</div>"
      ],
      "text/plain": [
       "  type      id                       name  \\\n",
       "0    F   37933     Faasos - Wraps & Rolls   \n",
       "1    F   81814                Burger King   \n",
       "2    F  107046        Mahalaxmi Pav Bhaji   \n",
       "3    F  328315                 HIIT Meals   \n",
       "4    F  108879  Jay Jalaram Parotha House   \n",
       "\n",
       "                                   uuid       city         area avgRating  \\\n",
       "0  6fe9caf1-02a7-4e66-83bb-1b4ff296b683  Ahmedabad    Vastrapur       4.2   \n",
       "1  10083576-d32d-4a0e-8a82-3236ef342a19  Ahmedabad  Ellisbridge       4.2   \n",
       "2  fbfe3bfa-03fd-4708-b913-06e2c9ee9639  Ahmedabad  Ellisbridge       4.3   \n",
       "3  81ab4019-2445-4aef-aff2-04beccd641d9  Ahmedabad      Vishala        --   \n",
       "4  994e73e1-7c7c-4ad9-87e7-ecfecd4e36fa  Ahmedabad  Ellisbridge       3.9   \n",
       "\n",
       "  totalRatingsString                                           cuisines  \\\n",
       "0       500+ ratings  ['Combo' 'Snacks' 'Beverages' 'Desserts' 'Indi...   \n",
       "1      1000+ ratings                           ['American' 'Fast Food']   \n",
       "2       500+ ratings                                   ['North Indian']   \n",
       "3    Too Few Ratings  ['Fast Food' 'Combo' 'Snacks' 'North Indian' '...   \n",
       "4       100+ ratings                                   ['North Indian']   \n",
       "\n",
       "  costForTwoStrings  deliveryTime  minDeliveryTime  maxDeliveryTime  \\\n",
       "0      ₹200 FOR TWO            44               44               44   \n",
       "1      ₹350 FOR TWO            33               33               33   \n",
       "2      ₹200 FOR TWO            28               28               28   \n",
       "3      ₹150 FOR TWO            51               51               51   \n",
       "4      ₹250 FOR TWO            29               29               29   \n",
       "\n",
       "                                             address  \\\n",
       "0  SHOP NO 2 HOTEL SHAHI PALACE VASTRAPUR LAKE AH...   \n",
       "1  SHOP # 5 GR FLR THIRD EYE 2PANCHAVATI CIRCLE O...   \n",
       "2  GF 9/10 Dev complexnear parimal charasta opp. ...   \n",
       "3  C11 Rajyash Rise Near Vishala Restaurant Vasna...   \n",
       "4  Capital Commercial Centre Near UCO Bank Ashram...   \n",
       "\n",
       "                          locality unserviceable    veg  City  \n",
       "0               HOTEL SHAHI PALACE         False  False   NaN  \n",
       "1  3rd Eye II Ellis Bridge CG Road         False  False   NaN  \n",
       "2                         C G Road         False   True   NaN  \n",
       "3                            Vasna         False  False   NaN  \n",
       "4                      Ashram Road         False   True   NaN  "
      ]
     },
     "execution_count": 51,
     "metadata": {},
     "output_type": "execute_result"
    }
   ],
   "source": [
    "df = pd.read_csv(\"C:\\Imp Folder\\WorkstatioN\\DATA_ANALYTICS\\DataSets\\Swiggy\\Swiggy_dataset.csv\")\n",
    "df.head()"
   ]
  },
  {
   "cell_type": "code",
   "execution_count": 52,
   "id": "b916e33b",
   "metadata": {},
   "outputs": [
    {
     "data": {
      "text/html": [
       "<div>\n",
       "<style scoped>\n",
       "    .dataframe tbody tr th:only-of-type {\n",
       "        vertical-align: middle;\n",
       "    }\n",
       "\n",
       "    .dataframe tbody tr th {\n",
       "        vertical-align: top;\n",
       "    }\n",
       "\n",
       "    .dataframe thead th {\n",
       "        text-align: right;\n",
       "    }\n",
       "</style>\n",
       "<table border=\"1\" class=\"dataframe\">\n",
       "  <thead>\n",
       "    <tr style=\"text-align: right;\">\n",
       "      <th></th>\n",
       "      <th>type</th>\n",
       "      <th>id</th>\n",
       "      <th>name</th>\n",
       "      <th>uuid</th>\n",
       "      <th>city</th>\n",
       "      <th>area</th>\n",
       "      <th>avgRating</th>\n",
       "      <th>totalRatingsString</th>\n",
       "      <th>cuisines</th>\n",
       "      <th>costForTwoStrings</th>\n",
       "      <th>deliveryTime</th>\n",
       "      <th>minDeliveryTime</th>\n",
       "      <th>maxDeliveryTime</th>\n",
       "      <th>address</th>\n",
       "      <th>locality</th>\n",
       "      <th>unserviceable</th>\n",
       "      <th>veg</th>\n",
       "      <th>City</th>\n",
       "    </tr>\n",
       "  </thead>\n",
       "  <tbody>\n",
       "    <tr>\n",
       "      <th>8686</th>\n",
       "      <td>F</td>\n",
       "      <td>452149</td>\n",
       "      <td>RAJWADU KATHIYAWADI RESTAURANT</td>\n",
       "      <td>0db4b5d1-4db2-44cc-9cec-5042ccba778b</td>\n",
       "      <td>Surat</td>\n",
       "      <td>Adajan</td>\n",
       "      <td>--</td>\n",
       "      <td>Too Few Ratings</td>\n",
       "      <td>['Gujarati' 'Indian' 'Fast Food' 'Pizzas' 'Bev...</td>\n",
       "      <td>₹300 FOR TWO</td>\n",
       "      <td>77</td>\n",
       "      <td>77</td>\n",
       "      <td>77</td>\n",
       "      <td>R.S.NO.17 PAIKI G.F. OLPAD ROAD NR. RAJ MARBLE...</td>\n",
       "      <td>Adajan</td>\n",
       "      <td>False</td>\n",
       "      <td>True</td>\n",
       "      <td>NaN</td>\n",
       "    </tr>\n",
       "    <tr>\n",
       "      <th>8687</th>\n",
       "      <td>F</td>\n",
       "      <td>411690</td>\n",
       "      <td>Concord Restaurant</td>\n",
       "      <td>6f112782-e1c0-477f-8c5b-3a7011d2dd7d</td>\n",
       "      <td>Surat</td>\n",
       "      <td>Adajan</td>\n",
       "      <td>4</td>\n",
       "      <td>100+ ratings</td>\n",
       "      <td>['North Indian']</td>\n",
       "      <td>₹300 FOR TWO</td>\n",
       "      <td>72</td>\n",
       "      <td>72</td>\n",
       "      <td>72</td>\n",
       "      <td>160 TO 1802ND FLOORRAJ  HARMONYUGAT-BHESAN  RO...</td>\n",
       "      <td>Adajan</td>\n",
       "      <td>False</td>\n",
       "      <td>False</td>\n",
       "      <td>NaN</td>\n",
       "    </tr>\n",
       "    <tr>\n",
       "      <th>8688</th>\n",
       "      <td>F</td>\n",
       "      <td>409122</td>\n",
       "      <td>5 Hot Chillis Pizza &amp; Mocktail bar</td>\n",
       "      <td>f0be3849-3d95-4ac9-bcd0-14a8501d98d7</td>\n",
       "      <td>Surat</td>\n",
       "      <td>Sarthana</td>\n",
       "      <td>--</td>\n",
       "      <td>Too Few Ratings</td>\n",
       "      <td>['Italian' 'Fast Food']</td>\n",
       "      <td>₹200 FOR TWO</td>\n",
       "      <td>70</td>\n",
       "      <td>70</td>\n",
       "      <td>70</td>\n",
       "      <td>SHOP NO 234 ATLANTA MALL SUDAMA CHOWKOPP TULSI...</td>\n",
       "      <td>Sarthana</td>\n",
       "      <td>False</td>\n",
       "      <td>True</td>\n",
       "      <td>NaN</td>\n",
       "    </tr>\n",
       "    <tr>\n",
       "      <th>8689</th>\n",
       "      <td>F</td>\n",
       "      <td>438809</td>\n",
       "      <td>SHIVA GARDEN RESTAURANT</td>\n",
       "      <td>6cf08b59-b6e1-4ffe-be07-a895c8816d58</td>\n",
       "      <td>Surat</td>\n",
       "      <td>Sarthana</td>\n",
       "      <td>--</td>\n",
       "      <td>Too Few Ratings</td>\n",
       "      <td>['Indian']</td>\n",
       "      <td>₹200 FOR TWO</td>\n",
       "      <td>66</td>\n",
       "      <td>66</td>\n",
       "      <td>66</td>\n",
       "      <td>Shiva Garden Restaurant Lajamni Chowk Shanti N...</td>\n",
       "      <td>Sarthana</td>\n",
       "      <td>False</td>\n",
       "      <td>True</td>\n",
       "      <td>NaN</td>\n",
       "    </tr>\n",
       "    <tr>\n",
       "      <th>8690</th>\n",
       "      <td>F</td>\n",
       "      <td>425118</td>\n",
       "      <td>Waterbomb pani-puri shop</td>\n",
       "      <td>12fde98a-36df-4bd8-95a8-7a05e1202025</td>\n",
       "      <td>Surat</td>\n",
       "      <td>Sarthana</td>\n",
       "      <td>--</td>\n",
       "      <td>Too Few Ratings</td>\n",
       "      <td>['Snacks']</td>\n",
       "      <td>₹155 FOR TWO</td>\n",
       "      <td>67</td>\n",
       "      <td>67</td>\n",
       "      <td>67</td>\n",
       "      <td>12 Ambika pinnacle Lajamni Chowk near savji ko...</td>\n",
       "      <td>Sarthana</td>\n",
       "      <td>False</td>\n",
       "      <td>True</td>\n",
       "      <td>NaN</td>\n",
       "    </tr>\n",
       "  </tbody>\n",
       "</table>\n",
       "</div>"
      ],
      "text/plain": [
       "     type      id                                name  \\\n",
       "8686    F  452149      RAJWADU KATHIYAWADI RESTAURANT   \n",
       "8687    F  411690                  Concord Restaurant   \n",
       "8688    F  409122  5 Hot Chillis Pizza & Mocktail bar   \n",
       "8689    F  438809             SHIVA GARDEN RESTAURANT   \n",
       "8690    F  425118            Waterbomb pani-puri shop   \n",
       "\n",
       "                                      uuid   city      area avgRating  \\\n",
       "8686  0db4b5d1-4db2-44cc-9cec-5042ccba778b  Surat    Adajan        --   \n",
       "8687  6f112782-e1c0-477f-8c5b-3a7011d2dd7d  Surat    Adajan         4   \n",
       "8688  f0be3849-3d95-4ac9-bcd0-14a8501d98d7  Surat  Sarthana        --   \n",
       "8689  6cf08b59-b6e1-4ffe-be07-a895c8816d58  Surat  Sarthana        --   \n",
       "8690  12fde98a-36df-4bd8-95a8-7a05e1202025  Surat  Sarthana        --   \n",
       "\n",
       "     totalRatingsString                                           cuisines  \\\n",
       "8686    Too Few Ratings  ['Gujarati' 'Indian' 'Fast Food' 'Pizzas' 'Bev...   \n",
       "8687       100+ ratings                                   ['North Indian']   \n",
       "8688    Too Few Ratings                            ['Italian' 'Fast Food']   \n",
       "8689    Too Few Ratings                                         ['Indian']   \n",
       "8690    Too Few Ratings                                         ['Snacks']   \n",
       "\n",
       "     costForTwoStrings  deliveryTime  minDeliveryTime  maxDeliveryTime  \\\n",
       "8686      ₹300 FOR TWO            77               77               77   \n",
       "8687      ₹300 FOR TWO            72               72               72   \n",
       "8688      ₹200 FOR TWO            70               70               70   \n",
       "8689      ₹200 FOR TWO            66               66               66   \n",
       "8690      ₹155 FOR TWO            67               67               67   \n",
       "\n",
       "                                                address  locality  \\\n",
       "8686  R.S.NO.17 PAIKI G.F. OLPAD ROAD NR. RAJ MARBLE...    Adajan   \n",
       "8687  160 TO 1802ND FLOORRAJ  HARMONYUGAT-BHESAN  RO...    Adajan   \n",
       "8688  SHOP NO 234 ATLANTA MALL SUDAMA CHOWKOPP TULSI...  Sarthana   \n",
       "8689  Shiva Garden Restaurant Lajamni Chowk Shanti N...  Sarthana   \n",
       "8690  12 Ambika pinnacle Lajamni Chowk near savji ko...  Sarthana   \n",
       "\n",
       "     unserviceable    veg  City  \n",
       "8686         False   True   NaN  \n",
       "8687         False  False   NaN  \n",
       "8688         False   True   NaN  \n",
       "8689         False   True   NaN  \n",
       "8690         False   True   NaN  "
      ]
     },
     "execution_count": 52,
     "metadata": {},
     "output_type": "execute_result"
    }
   ],
   "source": [
    "df.tail()"
   ]
  },
  {
   "cell_type": "code",
   "execution_count": 53,
   "id": "caedd4d7",
   "metadata": {},
   "outputs": [
    {
     "data": {
      "text/plain": [
       "(8691, 18)"
      ]
     },
     "execution_count": 53,
     "metadata": {},
     "output_type": "execute_result"
    }
   ],
   "source": [
    "df.shape"
   ]
  },
  {
   "cell_type": "markdown",
   "id": "d8fa03c8",
   "metadata": {},
   "source": [
    "## EDA Part"
   ]
  },
  {
   "cell_type": "code",
   "execution_count": 54,
   "id": "eff0e8fe",
   "metadata": {},
   "outputs": [
    {
     "data": {
      "text/plain": [
       "Index(['type', 'id', 'name', 'uuid', 'city', 'area', 'avgRating',\n",
       "       'totalRatingsString', 'cuisines', 'costForTwoStrings', 'deliveryTime',\n",
       "       'minDeliveryTime', 'maxDeliveryTime', 'address', 'locality',\n",
       "       'unserviceable', 'veg', 'City'],\n",
       "      dtype='object')"
      ]
     },
     "execution_count": 54,
     "metadata": {},
     "output_type": "execute_result"
    }
   ],
   "source": [
    "df.columns"
   ]
  },
  {
   "cell_type": "code",
   "execution_count": 55,
   "id": "46d3a593",
   "metadata": {},
   "outputs": [
    {
     "name": "stdout",
     "output_type": "stream",
     "text": [
      "<class 'pandas.core.frame.DataFrame'>\n",
      "RangeIndex: 8691 entries, 0 to 8690\n",
      "Data columns (total 18 columns):\n",
      " #   Column              Non-Null Count  Dtype  \n",
      "---  ------              --------------  -----  \n",
      " 0   type                8691 non-null   object \n",
      " 1   id                  8691 non-null   int64  \n",
      " 2   name                8691 non-null   object \n",
      " 3   uuid                8688 non-null   object \n",
      " 4   city                8691 non-null   object \n",
      " 5   area                8691 non-null   object \n",
      " 6   avgRating           8691 non-null   object \n",
      " 7   totalRatingsString  8691 non-null   object \n",
      " 8   cuisines            8691 non-null   object \n",
      " 9   costForTwoStrings   8691 non-null   object \n",
      " 10  deliveryTime        8691 non-null   int64  \n",
      " 11  minDeliveryTime     8691 non-null   int64  \n",
      " 12  maxDeliveryTime     8691 non-null   int64  \n",
      " 13  address             8682 non-null   object \n",
      " 14  locality            8681 non-null   object \n",
      " 15  unserviceable       8685 non-null   object \n",
      " 16  veg                 8685 non-null   object \n",
      " 17  City                0 non-null      float64\n",
      "dtypes: float64(1), int64(4), object(13)\n",
      "memory usage: 1.2+ MB\n"
     ]
    }
   ],
   "source": [
    "df.info()"
   ]
  },
  {
   "cell_type": "code",
   "execution_count": 56,
   "id": "ff42ea0a",
   "metadata": {},
   "outputs": [
    {
     "data": {
      "text/plain": [
       "type                     0\n",
       "id                       0\n",
       "name                     0\n",
       "uuid                     3\n",
       "city                     0\n",
       "area                     0\n",
       "avgRating                0\n",
       "totalRatingsString       0\n",
       "cuisines                 0\n",
       "costForTwoStrings        0\n",
       "deliveryTime             0\n",
       "minDeliveryTime          0\n",
       "maxDeliveryTime          0\n",
       "address                  9\n",
       "locality                10\n",
       "unserviceable            6\n",
       "veg                      6\n",
       "City                  8691\n",
       "dtype: int64"
      ]
     },
     "execution_count": 56,
     "metadata": {},
     "output_type": "execute_result"
    }
   ],
   "source": [
    "df.isnull().sum()"
   ]
  },
  {
   "cell_type": "code",
   "execution_count": 57,
   "id": "ffbfdcfa",
   "metadata": {},
   "outputs": [
    {
     "data": {
      "text/html": [
       "<div>\n",
       "<style scoped>\n",
       "    .dataframe tbody tr th:only-of-type {\n",
       "        vertical-align: middle;\n",
       "    }\n",
       "\n",
       "    .dataframe tbody tr th {\n",
       "        vertical-align: top;\n",
       "    }\n",
       "\n",
       "    .dataframe thead th {\n",
       "        text-align: right;\n",
       "    }\n",
       "</style>\n",
       "<table border=\"1\" class=\"dataframe\">\n",
       "  <thead>\n",
       "    <tr style=\"text-align: right;\">\n",
       "      <th></th>\n",
       "      <th>id</th>\n",
       "      <th>deliveryTime</th>\n",
       "      <th>minDeliveryTime</th>\n",
       "      <th>maxDeliveryTime</th>\n",
       "      <th>City</th>\n",
       "    </tr>\n",
       "  </thead>\n",
       "  <tbody>\n",
       "    <tr>\n",
       "      <th>count</th>\n",
       "      <td>8691.000000</td>\n",
       "      <td>8691.000000</td>\n",
       "      <td>8691.000000</td>\n",
       "      <td>8691.000000</td>\n",
       "      <td>0.0</td>\n",
       "    </tr>\n",
       "    <tr>\n",
       "      <th>mean</th>\n",
       "      <td>244855.957887</td>\n",
       "      <td>53.959268</td>\n",
       "      <td>53.130480</td>\n",
       "      <td>53.130480</td>\n",
       "      <td>NaN</td>\n",
       "    </tr>\n",
       "    <tr>\n",
       "      <th>std</th>\n",
       "      <td>158650.520513</td>\n",
       "      <td>14.290555</td>\n",
       "      <td>13.701142</td>\n",
       "      <td>13.701142</td>\n",
       "      <td>NaN</td>\n",
       "    </tr>\n",
       "    <tr>\n",
       "      <th>min</th>\n",
       "      <td>211.000000</td>\n",
       "      <td>20.000000</td>\n",
       "      <td>20.000000</td>\n",
       "      <td>20.000000</td>\n",
       "      <td>NaN</td>\n",
       "    </tr>\n",
       "    <tr>\n",
       "      <th>25%</th>\n",
       "      <td>72885.500000</td>\n",
       "      <td>44.000000</td>\n",
       "      <td>44.000000</td>\n",
       "      <td>44.000000</td>\n",
       "      <td>NaN</td>\n",
       "    </tr>\n",
       "    <tr>\n",
       "      <th>50%</th>\n",
       "      <td>283560.000000</td>\n",
       "      <td>52.000000</td>\n",
       "      <td>52.000000</td>\n",
       "      <td>52.000000</td>\n",
       "      <td>NaN</td>\n",
       "    </tr>\n",
       "    <tr>\n",
       "      <th>75%</th>\n",
       "      <td>393448.500000</td>\n",
       "      <td>64.000000</td>\n",
       "      <td>63.000000</td>\n",
       "      <td>63.000000</td>\n",
       "      <td>NaN</td>\n",
       "    </tr>\n",
       "    <tr>\n",
       "      <th>max</th>\n",
       "      <td>466928.000000</td>\n",
       "      <td>109.000000</td>\n",
       "      <td>109.000000</td>\n",
       "      <td>109.000000</td>\n",
       "      <td>NaN</td>\n",
       "    </tr>\n",
       "  </tbody>\n",
       "</table>\n",
       "</div>"
      ],
      "text/plain": [
       "                  id  deliveryTime  minDeliveryTime  maxDeliveryTime  City\n",
       "count    8691.000000   8691.000000      8691.000000      8691.000000   0.0\n",
       "mean   244855.957887     53.959268        53.130480        53.130480   NaN\n",
       "std    158650.520513     14.290555        13.701142        13.701142   NaN\n",
       "min       211.000000     20.000000        20.000000        20.000000   NaN\n",
       "25%     72885.500000     44.000000        44.000000        44.000000   NaN\n",
       "50%    283560.000000     52.000000        52.000000        52.000000   NaN\n",
       "75%    393448.500000     64.000000        63.000000        63.000000   NaN\n",
       "max    466928.000000    109.000000       109.000000       109.000000   NaN"
      ]
     },
     "execution_count": 57,
     "metadata": {},
     "output_type": "execute_result"
    }
   ],
   "source": [
    "df.describe()"
   ]
  },
  {
   "cell_type": "code",
   "execution_count": 58,
   "id": "efd52d65",
   "metadata": {
    "scrolled": true
   },
   "outputs": [
    {
     "data": {
      "text/plain": [
       "0       False\n",
       "1       False\n",
       "2       False\n",
       "3       False\n",
       "4       False\n",
       "        ...  \n",
       "8686    False\n",
       "8687    False\n",
       "8688    False\n",
       "8689    False\n",
       "8690    False\n",
       "Length: 8691, dtype: bool"
      ]
     },
     "execution_count": 58,
     "metadata": {},
     "output_type": "execute_result"
    }
   ],
   "source": [
    "df.duplicated()"
   ]
  },
  {
   "cell_type": "code",
   "execution_count": 59,
   "id": "801dcf6d",
   "metadata": {},
   "outputs": [
    {
     "name": "stdout",
     "output_type": "stream",
     "text": [
      "type 4\n",
      "***************\n",
      "id 8691\n",
      "***************\n",
      "name 7961\n",
      "***************\n",
      "uuid 8689\n",
      "***************\n",
      "city 9\n",
      "***************\n",
      "area 878\n",
      "***************\n",
      "avgRating 31\n",
      "***************\n",
      "totalRatingsString 8\n",
      "***************\n",
      "cuisines 3737\n",
      "***************\n",
      "costForTwoStrings 120\n",
      "***************\n",
      "deliveryTime 81\n",
      "***************\n",
      "minDeliveryTime 77\n",
      "***************\n",
      "maxDeliveryTime 77\n",
      "***************\n",
      "address 7947\n",
      "***************\n",
      "locality 2528\n",
      "***************\n",
      "unserviceable 2\n",
      "***************\n",
      "veg 3\n",
      "***************\n",
      "City 1\n",
      "***************\n"
     ]
    }
   ],
   "source": [
    "for col in ['type', 'id', 'name', 'uuid', 'city', 'area', 'avgRating',\n",
    "       'totalRatingsString', 'cuisines', 'costForTwoStrings', 'deliveryTime',\n",
    "       'minDeliveryTime', 'maxDeliveryTime', 'address', 'locality',\n",
    "       'unserviceable', 'veg', 'City']:\n",
    "    print(col,len(df[col].unique()))\n",
    "    print('*'*15)"
   ]
  },
  {
   "cell_type": "code",
   "execution_count": 60,
   "id": "1b925559",
   "metadata": {},
   "outputs": [],
   "source": [
    "def countplot(label, df):\n",
    "  plt.figure(figsize=(20,10))\n",
    "  ax=sns.countplot(x=label,data=df,palette = \"Set3\")\n",
    "  ax.set_title(f\"Distribution of feature {label.upper()}\", fontsize=22,pad=10)\n",
    "  plt.show()"
   ]
  },
  {
   "cell_type": "markdown",
   "id": "7225b461",
   "metadata": {},
   "source": [
    "### Feature avgRating  :-"
   ]
  },
  {
   "cell_type": "code",
   "execution_count": 61,
   "id": "65f97aae",
   "metadata": {},
   "outputs": [
    {
     "data": {
      "image/png": "[encoded data removed]",
      "text/plain": [
       "<Figure size 1440x720 with 1 Axes>"
      ]
     },
     "metadata": {
      "needs_background": "light"
     },
     "output_type": "display_data"
    }
   ],
   "source": [
    "countplot(\"avgRating\",df)"
   ]
  },
  {
   "cell_type": "markdown",
   "id": "e9d2ba61",
   "metadata": {},
   "source": [
    "#### We can see here the maximum average rating what people has given ."
   ]
  },
  {
   "cell_type": "markdown",
   "id": "e2223c00",
   "metadata": {},
   "source": [
    "### Feature totalRatingsString  :-"
   ]
  },
  {
   "cell_type": "code",
   "execution_count": 62,
   "id": "946b097f",
   "metadata": {},
   "outputs": [
    {
     "data": {
      "image/png": "[encoded data removed]",
      "text/plain": [
       "<Figure size 1440x720 with 1 Axes>"
      ]
     },
     "metadata": {
      "needs_background": "light"
     },
     "output_type": "display_data"
    }
   ],
   "source": [
    "countplot(\"totalRatingsString\",df)"
   ]
  },
  {
   "cell_type": "markdown",
   "id": "f173ff2e",
   "metadata": {},
   "source": [
    "#### Here we can see the Distribution of TotalratingString ."
   ]
  },
  {
   "cell_type": "markdown",
   "id": "6d94f591",
   "metadata": {},
   "source": [
    "### Feature deliveryTime  :-"
   ]
  },
  {
   "cell_type": "code",
   "execution_count": 63,
   "id": "0cba7148",
   "metadata": {},
   "outputs": [
    {
     "data": {
      "image/png": "[encoded data removed]",
      "text/plain": [
       "<Figure size 1440x720 with 1 Axes>"
      ]
     },
     "metadata": {
      "needs_background": "light"
     },
     "output_type": "display_data"
    }
   ],
   "source": [
    "countplot(\"deliveryTime\",df)"
   ]
  },
  {
   "cell_type": "markdown",
   "id": "9b401bec",
   "metadata": {},
   "source": [
    "#### Here We can see the Distribution of the Delivery Time ."
   ]
  },
  {
   "cell_type": "markdown",
   "id": "2b602590",
   "metadata": {},
   "source": [
    "### Feature city :-"
   ]
  },
  {
   "cell_type": "code",
   "execution_count": 64,
   "id": "2c186c4f",
   "metadata": {},
   "outputs": [
    {
     "data": {
      "image/png": "[encoded data removed]",
      "text/plain": [
       "<Figure size 1440x720 with 1 Axes>"
      ]
     },
     "metadata": {
      "needs_background": "light"
     },
     "output_type": "display_data"
    }
   ],
   "source": [
    "countplot(\"city\",df)"
   ]
  },
  {
   "cell_type": "markdown",
   "id": "abfa0e06",
   "metadata": {},
   "source": [
    "#### Here we can see the citywise ordered food ."
   ]
  },
  {
   "cell_type": "markdown",
   "id": "7dc79961",
   "metadata": {},
   "source": [
    "#### We can check the boxplot : --"
   ]
  },
  {
   "cell_type": "code",
   "execution_count": 65,
   "id": "8f5fda6f",
   "metadata": {},
   "outputs": [
    {
     "data": {
      "image/png": "[encoded data removed]",
      "text/plain": [
       "<Figure size 720x720 with 6 Axes>"
      ]
     },
     "metadata": {
      "needs_background": "light"
     },
     "output_type": "display_data"
    }
   ],
   "source": [
    "df.plot( kind = 'box', subplots = True,layout = (3,2),color =\"darkgreen\")\n",
    "plt.show()"
   ]
  },
  {
   "cell_type": "markdown",
   "id": "7ddc6327",
   "metadata": {},
   "source": [
    "#### We can check the hisogram : --"
   ]
  },
  {
   "cell_type": "code",
   "execution_count": 66,
   "id": "022457d0",
   "metadata": {},
   "outputs": [
    {
     "data": {
      "image/png": "[encoded data removed]",
      "text/plain": [
       "<Figure size 720x720 with 6 Axes>"
      ]
     },
     "metadata": {
      "needs_background": "light"
     },
     "output_type": "display_data"
    }
   ],
   "source": [
    "df.hist()\n",
    "plt.show()"
   ]
  },
  {
   "cell_type": "markdown",
   "id": "2cd29bc8",
   "metadata": {},
   "source": [
    "#### We can check the correlation by using heatmap : --"
   ]
  },
  {
   "cell_type": "code",
   "execution_count": 67,
   "id": "e877117b",
   "metadata": {},
   "outputs": [
    {
     "data": {
      "image/png": "[encoded data removed]",
      "text/plain": [
       "<Figure size 1440x720 with 2 Axes>"
      ]
     },
     "metadata": {
      "needs_background": "light"
     },
     "output_type": "display_data"
    }
   ],
   "source": [
    "plt.figure(figsize=(20,10))\n",
    "ax=sns.heatmap(df.corr(),annot=True,fmt='.2%', cmap='OrRd_r')"
   ]
  },
  {
   "cell_type": "markdown",
   "id": "7ce9f67e",
   "metadata": {},
   "source": [
    "### Data Cleaning : --"
   ]
  },
  {
   "cell_type": "code",
   "execution_count": 68,
   "id": "4b7b9920",
   "metadata": {},
   "outputs": [
    {
     "data": {
      "text/html": [
       "<div>\n",
       "<style scoped>\n",
       "    .dataframe tbody tr th:only-of-type {\n",
       "        vertical-align: middle;\n",
       "    }\n",
       "\n",
       "    .dataframe tbody tr th {\n",
       "        vertical-align: top;\n",
       "    }\n",
       "\n",
       "    .dataframe thead th {\n",
       "        text-align: right;\n",
       "    }\n",
       "</style>\n",
       "<table border=\"1\" class=\"dataframe\">\n",
       "  <thead>\n",
       "    <tr style=\"text-align: right;\">\n",
       "      <th></th>\n",
       "      <th>type</th>\n",
       "      <th>id</th>\n",
       "      <th>name</th>\n",
       "      <th>uuid</th>\n",
       "      <th>city</th>\n",
       "      <th>area</th>\n",
       "      <th>avgRating</th>\n",
       "      <th>totalRatingsString</th>\n",
       "      <th>cuisines</th>\n",
       "      <th>costForTwoStrings</th>\n",
       "      <th>deliveryTime</th>\n",
       "      <th>minDeliveryTime</th>\n",
       "      <th>maxDeliveryTime</th>\n",
       "      <th>address</th>\n",
       "      <th>locality</th>\n",
       "      <th>unserviceable</th>\n",
       "      <th>veg</th>\n",
       "      <th>City</th>\n",
       "    </tr>\n",
       "  </thead>\n",
       "  <tbody>\n",
       "    <tr>\n",
       "      <th>0</th>\n",
       "      <td>False</td>\n",
       "      <td>False</td>\n",
       "      <td>False</td>\n",
       "      <td>False</td>\n",
       "      <td>False</td>\n",
       "      <td>False</td>\n",
       "      <td>False</td>\n",
       "      <td>False</td>\n",
       "      <td>False</td>\n",
       "      <td>False</td>\n",
       "      <td>False</td>\n",
       "      <td>False</td>\n",
       "      <td>False</td>\n",
       "      <td>False</td>\n",
       "      <td>False</td>\n",
       "      <td>False</td>\n",
       "      <td>False</td>\n",
       "      <td>True</td>\n",
       "    </tr>\n",
       "    <tr>\n",
       "      <th>1</th>\n",
       "      <td>False</td>\n",
       "      <td>False</td>\n",
       "      <td>False</td>\n",
       "      <td>False</td>\n",
       "      <td>False</td>\n",
       "      <td>False</td>\n",
       "      <td>False</td>\n",
       "      <td>False</td>\n",
       "      <td>False</td>\n",
       "      <td>False</td>\n",
       "      <td>False</td>\n",
       "      <td>False</td>\n",
       "      <td>False</td>\n",
       "      <td>False</td>\n",
       "      <td>False</td>\n",
       "      <td>False</td>\n",
       "      <td>False</td>\n",
       "      <td>True</td>\n",
       "    </tr>\n",
       "    <tr>\n",
       "      <th>2</th>\n",
       "      <td>False</td>\n",
       "      <td>False</td>\n",
       "      <td>False</td>\n",
       "      <td>False</td>\n",
       "      <td>False</td>\n",
       "      <td>False</td>\n",
       "      <td>False</td>\n",
       "      <td>False</td>\n",
       "      <td>False</td>\n",
       "      <td>False</td>\n",
       "      <td>False</td>\n",
       "      <td>False</td>\n",
       "      <td>False</td>\n",
       "      <td>False</td>\n",
       "      <td>False</td>\n",
       "      <td>False</td>\n",
       "      <td>False</td>\n",
       "      <td>True</td>\n",
       "    </tr>\n",
       "    <tr>\n",
       "      <th>3</th>\n",
       "      <td>False</td>\n",
       "      <td>False</td>\n",
       "      <td>False</td>\n",
       "      <td>False</td>\n",
       "      <td>False</td>\n",
       "      <td>False</td>\n",
       "      <td>False</td>\n",
       "      <td>False</td>\n",
       "      <td>False</td>\n",
       "      <td>False</td>\n",
       "      <td>False</td>\n",
       "      <td>False</td>\n",
       "      <td>False</td>\n",
       "      <td>False</td>\n",
       "      <td>False</td>\n",
       "      <td>False</td>\n",
       "      <td>False</td>\n",
       "      <td>True</td>\n",
       "    </tr>\n",
       "    <tr>\n",
       "      <th>4</th>\n",
       "      <td>False</td>\n",
       "      <td>False</td>\n",
       "      <td>False</td>\n",
       "      <td>False</td>\n",
       "      <td>False</td>\n",
       "      <td>False</td>\n",
       "      <td>False</td>\n",
       "      <td>False</td>\n",
       "      <td>False</td>\n",
       "      <td>False</td>\n",
       "      <td>False</td>\n",
       "      <td>False</td>\n",
       "      <td>False</td>\n",
       "      <td>False</td>\n",
       "      <td>False</td>\n",
       "      <td>False</td>\n",
       "      <td>False</td>\n",
       "      <td>True</td>\n",
       "    </tr>\n",
       "    <tr>\n",
       "      <th>...</th>\n",
       "      <td>...</td>\n",
       "      <td>...</td>\n",
       "      <td>...</td>\n",
       "      <td>...</td>\n",
       "      <td>...</td>\n",
       "      <td>...</td>\n",
       "      <td>...</td>\n",
       "      <td>...</td>\n",
       "      <td>...</td>\n",
       "      <td>...</td>\n",
       "      <td>...</td>\n",
       "      <td>...</td>\n",
       "      <td>...</td>\n",
       "      <td>...</td>\n",
       "      <td>...</td>\n",
       "      <td>...</td>\n",
       "      <td>...</td>\n",
       "      <td>...</td>\n",
       "    </tr>\n",
       "    <tr>\n",
       "      <th>8686</th>\n",
       "      <td>False</td>\n",
       "      <td>False</td>\n",
       "      <td>False</td>\n",
       "      <td>False</td>\n",
       "      <td>False</td>\n",
       "      <td>False</td>\n",
       "      <td>False</td>\n",
       "      <td>False</td>\n",
       "      <td>False</td>\n",
       "      <td>False</td>\n",
       "      <td>False</td>\n",
       "      <td>False</td>\n",
       "      <td>False</td>\n",
       "      <td>False</td>\n",
       "      <td>False</td>\n",
       "      <td>False</td>\n",
       "      <td>False</td>\n",
       "      <td>True</td>\n",
       "    </tr>\n",
       "    <tr>\n",
       "      <th>8687</th>\n",
       "      <td>False</td>\n",
       "      <td>False</td>\n",
       "      <td>False</td>\n",
       "      <td>False</td>\n",
       "      <td>False</td>\n",
       "      <td>False</td>\n",
       "      <td>False</td>\n",
       "      <td>False</td>\n",
       "      <td>False</td>\n",
       "      <td>False</td>\n",
       "      <td>False</td>\n",
       "      <td>False</td>\n",
       "      <td>False</td>\n",
       "      <td>False</td>\n",
       "      <td>False</td>\n",
       "      <td>False</td>\n",
       "      <td>False</td>\n",
       "      <td>True</td>\n",
       "    </tr>\n",
       "    <tr>\n",
       "      <th>8688</th>\n",
       "      <td>False</td>\n",
       "      <td>False</td>\n",
       "      <td>False</td>\n",
       "      <td>False</td>\n",
       "      <td>False</td>\n",
       "      <td>False</td>\n",
       "      <td>False</td>\n",
       "      <td>False</td>\n",
       "      <td>False</td>\n",
       "      <td>False</td>\n",
       "      <td>False</td>\n",
       "      <td>False</td>\n",
       "      <td>False</td>\n",
       "      <td>False</td>\n",
       "      <td>False</td>\n",
       "      <td>False</td>\n",
       "      <td>False</td>\n",
       "      <td>True</td>\n",
       "    </tr>\n",
       "    <tr>\n",
       "      <th>8689</th>\n",
       "      <td>False</td>\n",
       "      <td>False</td>\n",
       "      <td>False</td>\n",
       "      <td>False</td>\n",
       "      <td>False</td>\n",
       "      <td>False</td>\n",
       "      <td>False</td>\n",
       "      <td>False</td>\n",
       "      <td>False</td>\n",
       "      <td>False</td>\n",
       "      <td>False</td>\n",
       "      <td>False</td>\n",
       "      <td>False</td>\n",
       "      <td>False</td>\n",
       "      <td>False</td>\n",
       "      <td>False</td>\n",
       "      <td>False</td>\n",
       "      <td>True</td>\n",
       "    </tr>\n",
       "    <tr>\n",
       "      <th>8690</th>\n",
       "      <td>False</td>\n",
       "      <td>False</td>\n",
       "      <td>False</td>\n",
       "      <td>False</td>\n",
       "      <td>False</td>\n",
       "      <td>False</td>\n",
       "      <td>False</td>\n",
       "      <td>False</td>\n",
       "      <td>False</td>\n",
       "      <td>False</td>\n",
       "      <td>False</td>\n",
       "      <td>False</td>\n",
       "      <td>False</td>\n",
       "      <td>False</td>\n",
       "      <td>False</td>\n",
       "      <td>False</td>\n",
       "      <td>False</td>\n",
       "      <td>True</td>\n",
       "    </tr>\n",
       "  </tbody>\n",
       "</table>\n",
       "<p>8691 rows × 18 columns</p>\n",
       "</div>"
      ],
      "text/plain": [
       "       type     id   name   uuid   city   area  avgRating  totalRatingsString  \\\n",
       "0     False  False  False  False  False  False      False               False   \n",
       "1     False  False  False  False  False  False      False               False   \n",
       "2     False  False  False  False  False  False      False               False   \n",
       "3     False  False  False  False  False  False      False               False   \n",
       "4     False  False  False  False  False  False      False               False   \n",
       "...     ...    ...    ...    ...    ...    ...        ...                 ...   \n",
       "8686  False  False  False  False  False  False      False               False   \n",
       "8687  False  False  False  False  False  False      False               False   \n",
       "8688  False  False  False  False  False  False      False               False   \n",
       "8689  False  False  False  False  False  False      False               False   \n",
       "8690  False  False  False  False  False  False      False               False   \n",
       "\n",
       "      cuisines  costForTwoStrings  deliveryTime  minDeliveryTime  \\\n",
       "0        False              False         False            False   \n",
       "1        False              False         False            False   \n",
       "2        False              False         False            False   \n",
       "3        False              False         False            False   \n",
       "4        False              False         False            False   \n",
       "...        ...                ...           ...              ...   \n",
       "8686     False              False         False            False   \n",
       "8687     False              False         False            False   \n",
       "8688     False              False         False            False   \n",
       "8689     False              False         False            False   \n",
       "8690     False              False         False            False   \n",
       "\n",
       "      maxDeliveryTime  address  locality  unserviceable    veg  City  \n",
       "0               False    False     False          False  False  True  \n",
       "1               False    False     False          False  False  True  \n",
       "2               False    False     False          False  False  True  \n",
       "3               False    False     False          False  False  True  \n",
       "4               False    False     False          False  False  True  \n",
       "...               ...      ...       ...            ...    ...   ...  \n",
       "8686            False    False     False          False  False  True  \n",
       "8687            False    False     False          False  False  True  \n",
       "8688            False    False     False          False  False  True  \n",
       "8689            False    False     False          False  False  True  \n",
       "8690            False    False     False          False  False  True  \n",
       "\n",
       "[8691 rows x 18 columns]"
      ]
     },
     "execution_count": 68,
     "metadata": {},
     "output_type": "execute_result"
    }
   ],
   "source": [
    "df.isnull()"
   ]
  },
  {
   "cell_type": "code",
   "execution_count": 69,
   "id": "a4c165cb",
   "metadata": {},
   "outputs": [
    {
     "data": {
      "text/plain": [
       "type                     0\n",
       "id                       0\n",
       "name                     0\n",
       "uuid                     3\n",
       "city                     0\n",
       "area                     0\n",
       "avgRating                0\n",
       "totalRatingsString       0\n",
       "cuisines                 0\n",
       "costForTwoStrings        0\n",
       "deliveryTime             0\n",
       "minDeliveryTime          0\n",
       "maxDeliveryTime          0\n",
       "address                  9\n",
       "locality                10\n",
       "unserviceable            6\n",
       "veg                      6\n",
       "City                  8691\n",
       "dtype: int64"
      ]
     },
     "execution_count": 69,
     "metadata": {},
     "output_type": "execute_result"
    }
   ],
   "source": [
    "df.isnull().sum()"
   ]
  },
  {
   "cell_type": "code",
   "execution_count": 70,
   "id": "3651567d",
   "metadata": {},
   "outputs": [
    {
     "data": {
      "image/png": "[encoded data removed]",
      "text/plain": [
       "<Figure size 720x720 with 2 Axes>"
      ]
     },
     "metadata": {
      "needs_background": "light"
     },
     "output_type": "display_data"
    }
   ],
   "source": [
    "sns.heatmap(df.isnull(), yticklabels=False,cmap= 'Reds_r')\n",
    "plt.rcParams['figure.figsize']=(10,10)"
   ]
  },
  {
   "cell_type": "markdown",
   "id": "df74ad46",
   "metadata": {},
   "source": [
    "##### Here we can see the 'City' column has large no. of NAN values , so we have to drop that column"
   ]
  },
  {
   "cell_type": "code",
   "execution_count": 71,
   "id": "f32051fd",
   "metadata": {},
   "outputs": [],
   "source": [
    "df.drop('City' , axis = 1, inplace = True)"
   ]
  },
  {
   "cell_type": "code",
   "execution_count": 72,
   "id": "38b105a5",
   "metadata": {},
   "outputs": [
    {
     "data": {
      "text/html": [
       "<div>\n",
       "<style scoped>\n",
       "    .dataframe tbody tr th:only-of-type {\n",
       "        vertical-align: middle;\n",
       "    }\n",
       "\n",
       "    .dataframe tbody tr th {\n",
       "        vertical-align: top;\n",
       "    }\n",
       "\n",
       "    .dataframe thead th {\n",
       "        text-align: right;\n",
       "    }\n",
       "</style>\n",
       "<table border=\"1\" class=\"dataframe\">\n",
       "  <thead>\n",
       "    <tr style=\"text-align: right;\">\n",
       "      <th></th>\n",
       "      <th>type</th>\n",
       "      <th>id</th>\n",
       "      <th>name</th>\n",
       "      <th>uuid</th>\n",
       "      <th>city</th>\n",
       "      <th>area</th>\n",
       "      <th>avgRating</th>\n",
       "      <th>totalRatingsString</th>\n",
       "      <th>cuisines</th>\n",
       "      <th>costForTwoStrings</th>\n",
       "      <th>deliveryTime</th>\n",
       "      <th>minDeliveryTime</th>\n",
       "      <th>maxDeliveryTime</th>\n",
       "      <th>address</th>\n",
       "      <th>locality</th>\n",
       "      <th>unserviceable</th>\n",
       "      <th>veg</th>\n",
       "    </tr>\n",
       "  </thead>\n",
       "  <tbody>\n",
       "    <tr>\n",
       "      <th>0</th>\n",
       "      <td>F</td>\n",
       "      <td>37933</td>\n",
       "      <td>Faasos - Wraps &amp; Rolls</td>\n",
       "      <td>6fe9caf1-02a7-4e66-83bb-1b4ff296b683</td>\n",
       "      <td>Ahmedabad</td>\n",
       "      <td>Vastrapur</td>\n",
       "      <td>4.2</td>\n",
       "      <td>500+ ratings</td>\n",
       "      <td>['Combo' 'Snacks' 'Beverages' 'Desserts' 'Indi...</td>\n",
       "      <td>₹200 FOR TWO</td>\n",
       "      <td>44</td>\n",
       "      <td>44</td>\n",
       "      <td>44</td>\n",
       "      <td>SHOP NO 2 HOTEL SHAHI PALACE VASTRAPUR LAKE AH...</td>\n",
       "      <td>HOTEL SHAHI PALACE</td>\n",
       "      <td>False</td>\n",
       "      <td>False</td>\n",
       "    </tr>\n",
       "    <tr>\n",
       "      <th>1</th>\n",
       "      <td>F</td>\n",
       "      <td>81814</td>\n",
       "      <td>Burger King</td>\n",
       "      <td>10083576-d32d-4a0e-8a82-3236ef342a19</td>\n",
       "      <td>Ahmedabad</td>\n",
       "      <td>Ellisbridge</td>\n",
       "      <td>4.2</td>\n",
       "      <td>1000+ ratings</td>\n",
       "      <td>['American' 'Fast Food']</td>\n",
       "      <td>₹350 FOR TWO</td>\n",
       "      <td>33</td>\n",
       "      <td>33</td>\n",
       "      <td>33</td>\n",
       "      <td>SHOP # 5 GR FLR THIRD EYE 2PANCHAVATI CIRCLE O...</td>\n",
       "      <td>3rd Eye II Ellis Bridge CG Road</td>\n",
       "      <td>False</td>\n",
       "      <td>False</td>\n",
       "    </tr>\n",
       "    <tr>\n",
       "      <th>2</th>\n",
       "      <td>F</td>\n",
       "      <td>107046</td>\n",
       "      <td>Mahalaxmi Pav Bhaji</td>\n",
       "      <td>fbfe3bfa-03fd-4708-b913-06e2c9ee9639</td>\n",
       "      <td>Ahmedabad</td>\n",
       "      <td>Ellisbridge</td>\n",
       "      <td>4.3</td>\n",
       "      <td>500+ ratings</td>\n",
       "      <td>['North Indian']</td>\n",
       "      <td>₹200 FOR TWO</td>\n",
       "      <td>28</td>\n",
       "      <td>28</td>\n",
       "      <td>28</td>\n",
       "      <td>GF 9/10 Dev complexnear parimal charasta opp. ...</td>\n",
       "      <td>C G Road</td>\n",
       "      <td>False</td>\n",
       "      <td>True</td>\n",
       "    </tr>\n",
       "    <tr>\n",
       "      <th>3</th>\n",
       "      <td>F</td>\n",
       "      <td>328315</td>\n",
       "      <td>HIIT Meals</td>\n",
       "      <td>81ab4019-2445-4aef-aff2-04beccd641d9</td>\n",
       "      <td>Ahmedabad</td>\n",
       "      <td>Vishala</td>\n",
       "      <td>--</td>\n",
       "      <td>Too Few Ratings</td>\n",
       "      <td>['Fast Food' 'Combo' 'Snacks' 'North Indian' '...</td>\n",
       "      <td>₹150 FOR TWO</td>\n",
       "      <td>51</td>\n",
       "      <td>51</td>\n",
       "      <td>51</td>\n",
       "      <td>C11 Rajyash Rise Near Vishala Restaurant Vasna...</td>\n",
       "      <td>Vasna</td>\n",
       "      <td>False</td>\n",
       "      <td>False</td>\n",
       "    </tr>\n",
       "    <tr>\n",
       "      <th>4</th>\n",
       "      <td>F</td>\n",
       "      <td>108879</td>\n",
       "      <td>Jay Jalaram Parotha House</td>\n",
       "      <td>994e73e1-7c7c-4ad9-87e7-ecfecd4e36fa</td>\n",
       "      <td>Ahmedabad</td>\n",
       "      <td>Ellisbridge</td>\n",
       "      <td>3.9</td>\n",
       "      <td>100+ ratings</td>\n",
       "      <td>['North Indian']</td>\n",
       "      <td>₹250 FOR TWO</td>\n",
       "      <td>29</td>\n",
       "      <td>29</td>\n",
       "      <td>29</td>\n",
       "      <td>Capital Commercial Centre Near UCO Bank Ashram...</td>\n",
       "      <td>Ashram Road</td>\n",
       "      <td>False</td>\n",
       "      <td>True</td>\n",
       "    </tr>\n",
       "  </tbody>\n",
       "</table>\n",
       "</div>"
      ],
      "text/plain": [
       "  type      id                       name  \\\n",
       "0    F   37933     Faasos - Wraps & Rolls   \n",
       "1    F   81814                Burger King   \n",
       "2    F  107046        Mahalaxmi Pav Bhaji   \n",
       "3    F  328315                 HIIT Meals   \n",
       "4    F  108879  Jay Jalaram Parotha House   \n",
       "\n",
       "                                   uuid       city         area avgRating  \\\n",
       "0  6fe9caf1-02a7-4e66-83bb-1b4ff296b683  Ahmedabad    Vastrapur       4.2   \n",
       "1  10083576-d32d-4a0e-8a82-3236ef342a19  Ahmedabad  Ellisbridge       4.2   \n",
       "2  fbfe3bfa-03fd-4708-b913-06e2c9ee9639  Ahmedabad  Ellisbridge       4.3   \n",
       "3  81ab4019-2445-4aef-aff2-04beccd641d9  Ahmedabad      Vishala        --   \n",
       "4  994e73e1-7c7c-4ad9-87e7-ecfecd4e36fa  Ahmedabad  Ellisbridge       3.9   \n",
       "\n",
       "  totalRatingsString                                           cuisines  \\\n",
       "0       500+ ratings  ['Combo' 'Snacks' 'Beverages' 'Desserts' 'Indi...   \n",
       "1      1000+ ratings                           ['American' 'Fast Food']   \n",
       "2       500+ ratings                                   ['North Indian']   \n",
       "3    Too Few Ratings  ['Fast Food' 'Combo' 'Snacks' 'North Indian' '...   \n",
       "4       100+ ratings                                   ['North Indian']   \n",
       "\n",
       "  costForTwoStrings  deliveryTime  minDeliveryTime  maxDeliveryTime  \\\n",
       "0      ₹200 FOR TWO            44               44               44   \n",
       "1      ₹350 FOR TWO            33               33               33   \n",
       "2      ₹200 FOR TWO            28               28               28   \n",
       "3      ₹150 FOR TWO            51               51               51   \n",
       "4      ₹250 FOR TWO            29               29               29   \n",
       "\n",
       "                                             address  \\\n",
       "0  SHOP NO 2 HOTEL SHAHI PALACE VASTRAPUR LAKE AH...   \n",
       "1  SHOP # 5 GR FLR THIRD EYE 2PANCHAVATI CIRCLE O...   \n",
       "2  GF 9/10 Dev complexnear parimal charasta opp. ...   \n",
       "3  C11 Rajyash Rise Near Vishala Restaurant Vasna...   \n",
       "4  Capital Commercial Centre Near UCO Bank Ashram...   \n",
       "\n",
       "                          locality unserviceable    veg  \n",
       "0               HOTEL SHAHI PALACE         False  False  \n",
       "1  3rd Eye II Ellis Bridge CG Road         False  False  \n",
       "2                         C G Road         False   True  \n",
       "3                            Vasna         False  False  \n",
       "4                      Ashram Road         False   True  "
      ]
     },
     "execution_count": 72,
     "metadata": {},
     "output_type": "execute_result"
    }
   ],
   "source": [
    "df.head()"
   ]
  },
  {
   "cell_type": "code",
   "execution_count": 73,
   "id": "79e240dd",
   "metadata": {},
   "outputs": [],
   "source": [
    "df.dropna(inplace=True)"
   ]
  },
  {
   "cell_type": "code",
   "execution_count": 74,
   "id": "1b5aa052",
   "metadata": {},
   "outputs": [
    {
     "data": {
      "text/plain": [
       "<AxesSubplot:>"
      ]
     },
     "execution_count": 74,
     "metadata": {},
     "output_type": "execute_result"
    },
    {
     "data": {
      "image/png": "[encoded data removed]",
      "text/plain": [
       "<Figure size 720x720 with 2 Axes>"
      ]
     },
     "metadata": {
      "needs_background": "light"
     },
     "output_type": "display_data"
    }
   ],
   "source": [
    "sns.heatmap(df.isnull() , yticklabels=False , cmap= 'viridis')"
   ]
  },
  {
   "cell_type": "markdown",
   "id": "fa6c6c8f",
   "metadata": {},
   "source": [
    "#### Now we can see there is no null values . Our Data now clean ."
   ]
  },
  {
   "cell_type": "code",
   "execution_count": 75,
   "id": "37d5133e",
   "metadata": {},
   "outputs": [
    {
     "data": {
      "text/html": [
       "<div>\n",
       "<style scoped>\n",
       "    .dataframe tbody tr th:only-of-type {\n",
       "        vertical-align: middle;\n",
       "    }\n",
       "\n",
       "    .dataframe tbody tr th {\n",
       "        vertical-align: top;\n",
       "    }\n",
       "\n",
       "    .dataframe thead th {\n",
       "        text-align: right;\n",
       "    }\n",
       "</style>\n",
       "<table border=\"1\" class=\"dataframe\">\n",
       "  <thead>\n",
       "    <tr style=\"text-align: right;\">\n",
       "      <th></th>\n",
       "      <th>name</th>\n",
       "      <th>city</th>\n",
       "      <th>area</th>\n",
       "      <th>avgRating</th>\n",
       "      <th>cuisines</th>\n",
       "      <th>costForTwoStrings</th>\n",
       "      <th>deliveryTime</th>\n",
       "      <th>address</th>\n",
       "      <th>locality</th>\n",
       "    </tr>\n",
       "  </thead>\n",
       "  <tbody>\n",
       "    <tr>\n",
       "      <th>0</th>\n",
       "      <td>Faasos - Wraps &amp; Rolls</td>\n",
       "      <td>Ahmedabad</td>\n",
       "      <td>Vastrapur</td>\n",
       "      <td>4.2</td>\n",
       "      <td>['Combo' 'Snacks' 'Beverages' 'Desserts' 'Indi...</td>\n",
       "      <td>₹200 FOR TWO</td>\n",
       "      <td>44</td>\n",
       "      <td>SHOP NO 2 HOTEL SHAHI PALACE VASTRAPUR LAKE AH...</td>\n",
       "      <td>HOTEL SHAHI PALACE</td>\n",
       "    </tr>\n",
       "    <tr>\n",
       "      <th>1</th>\n",
       "      <td>Burger King</td>\n",
       "      <td>Ahmedabad</td>\n",
       "      <td>Ellisbridge</td>\n",
       "      <td>4.2</td>\n",
       "      <td>['American' 'Fast Food']</td>\n",
       "      <td>₹350 FOR TWO</td>\n",
       "      <td>33</td>\n",
       "      <td>SHOP # 5 GR FLR THIRD EYE 2PANCHAVATI CIRCLE O...</td>\n",
       "      <td>3rd Eye II Ellis Bridge CG Road</td>\n",
       "    </tr>\n",
       "    <tr>\n",
       "      <th>2</th>\n",
       "      <td>Mahalaxmi Pav Bhaji</td>\n",
       "      <td>Ahmedabad</td>\n",
       "      <td>Ellisbridge</td>\n",
       "      <td>4.3</td>\n",
       "      <td>['North Indian']</td>\n",
       "      <td>₹200 FOR TWO</td>\n",
       "      <td>28</td>\n",
       "      <td>GF 9/10 Dev complexnear parimal charasta opp. ...</td>\n",
       "      <td>C G Road</td>\n",
       "    </tr>\n",
       "    <tr>\n",
       "      <th>3</th>\n",
       "      <td>HIIT Meals</td>\n",
       "      <td>Ahmedabad</td>\n",
       "      <td>Vishala</td>\n",
       "      <td>--</td>\n",
       "      <td>['Fast Food' 'Combo' 'Snacks' 'North Indian' '...</td>\n",
       "      <td>₹150 FOR TWO</td>\n",
       "      <td>51</td>\n",
       "      <td>C11 Rajyash Rise Near Vishala Restaurant Vasna...</td>\n",
       "      <td>Vasna</td>\n",
       "    </tr>\n",
       "    <tr>\n",
       "      <th>4</th>\n",
       "      <td>Jay Jalaram Parotha House</td>\n",
       "      <td>Ahmedabad</td>\n",
       "      <td>Ellisbridge</td>\n",
       "      <td>3.9</td>\n",
       "      <td>['North Indian']</td>\n",
       "      <td>₹250 FOR TWO</td>\n",
       "      <td>29</td>\n",
       "      <td>Capital Commercial Centre Near UCO Bank Ashram...</td>\n",
       "      <td>Ashram Road</td>\n",
       "    </tr>\n",
       "  </tbody>\n",
       "</table>\n",
       "</div>"
      ],
      "text/plain": [
       "                        name       city         area avgRating  \\\n",
       "0     Faasos - Wraps & Rolls  Ahmedabad    Vastrapur       4.2   \n",
       "1                Burger King  Ahmedabad  Ellisbridge       4.2   \n",
       "2        Mahalaxmi Pav Bhaji  Ahmedabad  Ellisbridge       4.3   \n",
       "3                 HIIT Meals  Ahmedabad      Vishala        --   \n",
       "4  Jay Jalaram Parotha House  Ahmedabad  Ellisbridge       3.9   \n",
       "\n",
       "                                            cuisines costForTwoStrings  \\\n",
       "0  ['Combo' 'Snacks' 'Beverages' 'Desserts' 'Indi...      ₹200 FOR TWO   \n",
       "1                           ['American' 'Fast Food']      ₹350 FOR TWO   \n",
       "2                                   ['North Indian']      ₹200 FOR TWO   \n",
       "3  ['Fast Food' 'Combo' 'Snacks' 'North Indian' '...      ₹150 FOR TWO   \n",
       "4                                   ['North Indian']      ₹250 FOR TWO   \n",
       "\n",
       "   deliveryTime                                            address  \\\n",
       "0            44  SHOP NO 2 HOTEL SHAHI PALACE VASTRAPUR LAKE AH...   \n",
       "1            33  SHOP # 5 GR FLR THIRD EYE 2PANCHAVATI CIRCLE O...   \n",
       "2            28  GF 9/10 Dev complexnear parimal charasta opp. ...   \n",
       "3            51  C11 Rajyash Rise Near Vishala Restaurant Vasna...   \n",
       "4            29  Capital Commercial Centre Near UCO Bank Ashram...   \n",
       "\n",
       "                          locality  \n",
       "0               HOTEL SHAHI PALACE  \n",
       "1  3rd Eye II Ellis Bridge CG Road  \n",
       "2                         C G Road  \n",
       "3                            Vasna  \n",
       "4                      Ashram Road  "
      ]
     },
     "execution_count": 75,
     "metadata": {},
     "output_type": "execute_result"
    }
   ],
   "source": [
    "df1 = df[['name','city', 'area','avgRating', 'cuisines', 'costForTwoStrings','deliveryTime','address','locality']]\n",
    "df1.head()"
   ]
  },
  {
   "cell_type": "code",
   "execution_count": 76,
   "id": "53e3e6ed",
   "metadata": {},
   "outputs": [
    {
     "data": {
      "text/plain": [
       "(8668, 9)"
      ]
     },
     "execution_count": 76,
     "metadata": {},
     "output_type": "execute_result"
    }
   ],
   "source": [
    "df1.shape"
   ]
  },
  {
   "cell_type": "code",
   "execution_count": 77,
   "id": "0c9a2aca",
   "metadata": {},
   "outputs": [
    {
     "name": "stdout",
     "output_type": "stream",
     "text": [
      "<class 'pandas.core.frame.DataFrame'>\n",
      "Int64Index: 8668 entries, 0 to 8690\n",
      "Data columns (total 9 columns):\n",
      " #   Column             Non-Null Count  Dtype \n",
      "---  ------             --------------  ----- \n",
      " 0   name               8668 non-null   object\n",
      " 1   city               8668 non-null   object\n",
      " 2   area               8668 non-null   object\n",
      " 3   avgRating          8668 non-null   object\n",
      " 4   cuisines           8668 non-null   object\n",
      " 5   costForTwoStrings  8668 non-null   object\n",
      " 6   deliveryTime       8668 non-null   int64 \n",
      " 7   address            8668 non-null   object\n",
      " 8   locality           8668 non-null   object\n",
      "dtypes: int64(1), object(8)\n",
      "memory usage: 677.2+ KB\n"
     ]
    }
   ],
   "source": [
    "df1.info()"
   ]
  },
  {
   "cell_type": "code",
   "execution_count": 78,
   "id": "0a490924",
   "metadata": {},
   "outputs": [
    {
     "data": {
      "text/plain": [
       "Text(0, 0.5, 'cuisines')"
      ]
     },
     "execution_count": 78,
     "metadata": {},
     "output_type": "execute_result"
    },
    {
     "data": {
      "image/png": "[encoded data removed]",
      "text/plain": [
       "<Figure size 1440x720 with 1 Axes>"
      ]
     },
     "metadata": {
      "needs_background": "light"
     },
     "output_type": "display_data"
    }
   ],
   "source": [
    "plt.figure(figsize=[20,10])\n",
    "df1.deliveryTime.value_counts().plot.bar(color = 'blue')\n",
    "plt.xlabel('deliveryTime')\n",
    "plt.ylabel('cuisines')"
   ]
  },
  {
   "cell_type": "markdown",
   "id": "73ade3ec",
   "metadata": {},
   "source": [
    "#### Here we can see the relation between cusines and deliverytime ."
   ]
  },
  {
   "cell_type": "code",
   "execution_count": 79,
   "id": "2db4bc27",
   "metadata": {},
   "outputs": [
    {
     "data": {
      "text/plain": [
       "Text(0, 0.5, 'avgRating')"
      ]
     },
     "execution_count": 79,
     "metadata": {},
     "output_type": "execute_result"
    },
    {
     "data": {
      "image/png": "[encoded data removed]",
      "text/plain": [
       "<Figure size 1440x720 with 1 Axes>"
      ]
     },
     "metadata": {
      "needs_background": "light"
     },
     "output_type": "display_data"
    }
   ],
   "source": [
    "plt.figure(figsize=[20,10])\n",
    "df1.deliveryTime.value_counts().plot.bar(color = 'red')\n",
    "plt.xlabel('name')\n",
    "plt.ylabel('avgRating')"
   ]
  },
  {
   "cell_type": "markdown",
   "id": "76f2f6af",
   "metadata": {},
   "source": [
    "#### Here we can see the relation between name and avgRating ."
   ]
  },
  {
   "cell_type": "code",
   "execution_count": 80,
   "id": "eb20e070",
   "metadata": {},
   "outputs": [
    {
     "data": {
      "text/plain": [
       "Text(0, 0.5, 'name')"
      ]
     },
     "execution_count": 80,
     "metadata": {},
     "output_type": "execute_result"
    },
    {
     "data": {
      "image/png": "[encoded data removed]",
      "text/plain": [
       "<Figure size 1440x720 with 1 Axes>"
      ]
     },
     "metadata": {
      "needs_background": "light"
     },
     "output_type": "display_data"
    }
   ],
   "source": [
    "plt.figure(figsize=[20,10])\n",
    "df1.deliveryTime.value_counts().plot.bar(color = 'yellow')\n",
    "plt.xlabel('area')\n",
    "plt.ylabel('name')"
   ]
  },
  {
   "cell_type": "markdown",
   "id": "d745c2bc",
   "metadata": {},
   "source": [
    "#### Here we can see the relation between area and name ."
   ]
  },
  {
   "cell_type": "code",
   "execution_count": 81,
   "id": "25886772",
   "metadata": {},
   "outputs": [
    {
     "data": {
      "text/plain": [
       "name                                                 Conclave at Afraa\n",
       "city                                                         Ahmedabad\n",
       "area                                               Akhbar Nagar Circle\n",
       "avgRating                                                           --\n",
       "cuisines                      ['Afghani' 'Arabian' 'Indian' 'Tandoor']\n",
       "costForTwoStrings                                           ₹0 FOR TWO\n",
       "deliveryTime                                                        20\n",
       "address              \\t28C SHYAMAPRASAD MUKHERJEE ROAD  BOROUGH- IX...\n",
       "locality                                                 100 Feet Road\n",
       "dtype: object"
      ]
     },
     "execution_count": 81,
     "metadata": {},
     "output_type": "execute_result"
    }
   ],
   "source": [
    "df1.min()"
   ]
  },
  {
   "cell_type": "code",
   "execution_count": 82,
   "id": "85713c76",
   "metadata": {},
   "outputs": [
    {
     "data": {
      "text/plain": [
       "name                                                 zam zam fast food\n",
       "city                                                             Surat\n",
       "area                                                         vikaspuri\n",
       "avgRating                                                            5\n",
       "cuisines                                                   ['Turkish']\n",
       "costForTwoStrings                                          ₹99 FOR TWO\n",
       "deliveryTime                                                       109\n",
       "address              zapa bazar saliyawali market  Surat City  Sura...\n",
       "locality                                                   wood street\n",
       "dtype: object"
      ]
     },
     "execution_count": 82,
     "metadata": {},
     "output_type": "execute_result"
    }
   ],
   "source": [
    "df1.max()"
   ]
  },
  {
   "cell_type": "code",
   "execution_count": 83,
   "id": "7e8320c5",
   "metadata": {},
   "outputs": [
    {
     "name": "stdout",
     "output_type": "stream",
     "text": [
      "53.95731425934471\n"
     ]
    }
   ],
   "source": [
    "avg_time = df1[\"deliveryTime\"].mean()\n",
    "print(avg_time)"
   ]
  },
  {
   "cell_type": "markdown",
   "id": "69a22767",
   "metadata": {},
   "source": [
    "## My Conclusion is : -\n",
    "  - The 'Turkish' food got the highest no. of order or more frequently ordered food .\n",
    "  \n",
    "  - 'Zam Zam Fast Food' does the maximum business according to the order of food by the people .\n",
    "  \n",
    "  - We got here maximum average rating of 5 . we got very less no, of 3 rating .  \n",
    "    'Conclave at Afraa' is one of the 3 rated shop.\n",
    "    \n",
    "  - The average delivery time is 53.96min for delivery the food to the customer . "
   ]
  },
  {
   "cell_type": "code",
   "execution_count": null,
   "id": "5a324766",
   "metadata": {},
   "outputs": [],
   "source": []
  }
 ],
 "metadata": {
  "kernelspec": {
   "display_name": "Python 3 (ipykernel)",
   "language": "python",
   "name": "python3"
  },
  "language_info": {
   "codemirror_mode": {
    "name": "ipython",
    "version": 3
   },
   "file_extension": ".py",
   "mimetype": "text/x-python",
   "name": "python",
   "nbconvert_exporter": "python",
   "pygments_lexer": "ipython3",
   "version": "3.9.12"
  }
 },
 "nbformat": 4,
 "nbformat_minor": 5
}
